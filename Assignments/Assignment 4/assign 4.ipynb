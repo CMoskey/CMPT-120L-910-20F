{
 "metadata": {
  "language_info": {
   "codemirror_mode": {
    "name": "ipython",
    "version": 3
   },
   "file_extension": ".py",
   "mimetype": "text/x-python",
   "name": "python",
   "nbconvert_exporter": "python",
   "pygments_lexer": "ipython3",
   "version": "3.8.5-final"
  },
  "orig_nbformat": 2,
  "kernelspec": {
   "name": "Python 3.8.5 64-bit",
   "display_name": "Python 3.8.5 64-bit",
   "metadata": {
    "interpreter": {
     "hash": "aee8b7b246df8f9039afb4144a1f6fd8d2ca17a180786b69acc140d282b71a49"
    }
   }
  }
 },
 "nbformat": 4,
 "nbformat_minor": 2,
 "cells": [
  {
   "cell_type": "markdown",
   "metadata": {},
   "source": [
    "Range Function Input\n",
    "---\n",
    "\n",
    "Below Enter a Number of Your Choosing"
   ]
  },
  {
   "cell_type": "code",
   "execution_count": 32,
   "metadata": {
    "tags": []
   },
   "outputs": [
    {
     "output_type": "stream",
     "name": "stdout",
     "text": "Final Sum of Range =  21\n"
    }
   ],
   "source": [
    "#range inputs\n",
    "start = 1\n",
    "end = int(input(\"Enter a Number Here: \"))\n",
    "#defs\n",
    "num_list = range(start, end + 1)\n",
    "finalsum = sum(num_list)\n",
    "\n",
    "print(\"Final Sum of Range = \", finalsum)"
   ]
  },
  {
   "cell_type": "markdown",
   "metadata": {},
   "source": [
    "Exes\n",
    "---\n",
    "You have 5 exes. \n",
    "One night you are feeling lonely and decide to call one of them.\n",
    "Please choose an ex 1-5 to call tonight.\n",
    "___\n",
    "Ex List\n",
    "---\n",
    "1 = Jennifer\n",
    "2 = Emily\n",
    "3 = Jessica\n",
    "4 = Stacy\n",
    "5 = Sophia\n",
    "\n"
   ]
  },
  {
   "cell_type": "code",
   "execution_count": null,
   "metadata": {},
   "outputs": [],
   "source": [
    "def call_my_ex(name):\n",
    "    if name == 1:\n",
    "       print(\"Calling Jennifer now.\")\n",
    "    elif name == 2:\n",
    "       print(\"Calling Emily now.\")\n",
    "    elif name == 3:\n",
    "        print(\"Calling Jessica now.\")\n",
    "    elif name == 4:\n",
    "        print(\"Calling Stacy's Mom instead becasue she has it          going on.\")\n",
    "    elif name == 5:\n",
    "        print(\"Calling Sophia now.\")\n",
    "    else:\n",
    "        print(\"Ok stay lonely then, I don't care.\")\n",
    "\n",
    "\n",
    "name = int(input(\"Who would you like to call:\"))\n",
    "  \n",
    "\n",
    "call_my_ex(name)"
   ]
  }
 ]
}