{
 "metadata": {
  "language_info": {
   "codemirror_mode": {
    "name": "ipython",
    "version": 3
   },
   "file_extension": ".py",
   "mimetype": "text/x-python",
   "name": "python",
   "nbconvert_exporter": "python",
   "pygments_lexer": "ipython3",
   "version": "3.8.5-final"
  },
  "orig_nbformat": 2,
  "kernelspec": {
   "name": "python38564bit0420b348f4b74f74a3343f3b86dccb79",
   "display_name": "Python 3.8.5 64-bit"
  }
 },
 "nbformat": 4,
 "nbformat_minor": 2,
 "cells": [
  {
   "cell_type": "code",
   "execution_count": null,
   "metadata": {},
   "outputs": [],
   "source": [
    "# Lab One\n",
    "---\n",
    "\n",
    "Ok for this lab we're going to reiterate a lot of the things that we went over in class.\n",
    "\n",
    "Our Goals are:\n",
    "- Defining variables\n",
    "- Using math\n",
    "- Manipulating variables\n",
    "- Changing data types\n",
    "- Playing with lists"
   ]
  },
  {
   "cell_type": "code",
   "execution_count": 9,
   "metadata": {
    "tags": []
   },
   "outputs": [
    {
     "output_type": "stream",
     "name": "stdout",
     "text": "Integers: whole numbers that can only exist within the realm of -2^31 -- 2^31\nStrings: the primary way to communitcate phrases. They are started and ended with single or double quotes\nFloats: Primary way to represent deciamls\nBooleans: a way to represent: True or False / 0 or 1 / is or isn't\n"
    }
   ],
   "source": [
    "# Define 4 variables, one of each type listed: [Integer, String, Boolean, Float]. Print all 4.\n",
    "intdef = \"Integers: whole numbers that can only exist within the realm of -2^31 -- 2^31\"\n",
    "Stringdef = \"Strings: the primary way to communitcate phrases. They are started and ended with single or double quotes\"\n",
    "Floatdef = \"Floats: Primary way to represent deciamls\"\n",
    "Booldef = \"Booleans: a way to represent: True or False / 0 or 1 / is or isn't\"\n",
    "\n",
    "print(intdef)\n",
    "\n",
    "print(Stringdef)\n",
    "\n",
    "print(Floatdef)\n",
    "\n",
    "print(Booldef)\n"
   ]
  },
  {
   "cell_type": "code",
   "execution_count": 14,
   "metadata": {
    "tags": []
   },
   "outputs": [
    {
     "output_type": "stream",
     "name": "stdout",
     "text": "35   68   1035   7.666666666666667   5\n"
    }
   ],
   "source": [
    "# With whatever variables you'd like demonstrate the following: [Addition, Subtraction, Division, Multiplication, Modulo]. Print all 5.\n",
    "\n",
    "#Variables:\n",
    "apple = 9\n",
    "orange = 26\n",
    "banana = 69 \n",
    "mango = 15\n",
    "peach = 83\n",
    "\n",
    "add = apple + orange\n",
    "subt = peach - mango\n",
    "mult = mango * banana\n",
    "div = banana / apple\n",
    "mod = peach % orange\n",
    "\n",
    "print(add,\" \",subt,\" \",mult,\" \",div,\" \",mod)\n"
   ]
  },
  {
   "cell_type": "code",
   "execution_count": 15,
   "metadata": {
    "tags": []
   },
   "outputs": [
    {
     "output_type": "stream",
     "name": "stdout",
     "text": "57\n"
    }
   ],
   "source": [
    "# Using 2 variables and addition print the number 57\n",
    "\n",
    "#vars \n",
    "pan = 34\n",
    "pot = 23\n",
    "\n",
    "print(pan + pot)"
   ]
  },
  {
   "cell_type": "code",
   "execution_count": 19,
   "metadata": {
    "tags": []
   },
   "outputs": [
    {
     "output_type": "stream",
     "name": "stdout",
     "text": "37   10   299.99   True\n"
    }
   ],
   "source": [
    "# Change this variable to a string and print\n",
    "number_into_string = 37\n",
    "num2str = \"37\"\n",
    "# Change this variable to a integer and print\n",
    "string_into_number = '10'\n",
    "str2num = 10\n",
    "# Change this variable to a float and print\n",
    "string_into_float = '299.99'\n",
    "str2float = 299.99\n",
    "# Change this variable to a boolean and print\n",
    "number_into_boolean = 37\n",
    "num2bool = True\n",
    "\n",
    "print(num2str,\" \",str2num,\" \",str2float,\" \",num2bool)\n",
    "\n"
   ]
  },
  {
   "cell_type": "code",
   "execution_count": 28,
   "metadata": {
    "tags": []
   },
   "outputs": [
    {
     "output_type": "stream",
     "name": "stdout",
     "text": "['coffee', 'games', 'car', 'seltzer water']\n"
    }
   ],
   "source": [
    "# Make me a list of any type\n",
    "#Things I spend to much money on\n",
    "bankdrain = [\"coffee\", \"games\", \"car\", \"seltzer water\"]\n",
    "print(bankdrain)"
   ]
  },
  {
   "cell_type": "markdown",
   "metadata": {},
   "source": []
  }
 ]
}