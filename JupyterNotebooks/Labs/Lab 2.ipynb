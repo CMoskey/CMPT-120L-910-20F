{
 "metadata": {
  "language_info": {
   "codemirror_mode": {
    "name": "ipython",
    "version": 3
   },
   "file_extension": ".py",
   "mimetype": "text/x-python",
   "name": "python",
   "nbconvert_exporter": "python",
   "pygments_lexer": "ipython3",
   "version": "3.8.5-final"
  },
  "orig_nbformat": 2,
  "kernelspec": {
   "name": "python38564bit71862be4c2fd4b5e85ba7c8f2c7e8295",
   "display_name": "Python 3.8.5 64-bit"
  }
 },
 "nbformat": 4,
 "nbformat_minor": 2,
 "cells": [
  {
   "cell_type": "markdown",
   "metadata": {},
   "source": [
    "# Lab Two\n",
    "---\n",
    "\n",
    "For this lab we're going to get into logic\n",
    "\n",
    "Our Goals are:\n",
    "- Using Conditionals\n",
    "- Using Loops\n",
    "- Creating a Function\n",
    "- Using a Class"
   ]
  },
  {
   "cell_type": "code",
   "execution_count": 19,
   "metadata": {
    "tags": []
   },
   "outputs": [
    {
     "output_type": "stream",
     "name": "stdout",
     "text": "I can play smash bros today\n"
    }
   ],
   "source": [
    "# Create an if statement\n",
    "Job1 = True\n",
    "HW = True\n",
    "if Job1 and HW:\n",
    "    print(\"I can play smash bros today\")"
   ]
  },
  {
   "cell_type": "code",
   "execution_count": 13,
   "metadata": {
    "tags": []
   },
   "outputs": [
    {
     "output_type": "stream",
     "name": "stdout",
     "text": "I'm going to buy some food\n"
    }
   ],
   "source": [
    "# Create an if else statement\n",
    "hungry = True\n",
    "if hungry:\n",
    "    print(\"I'm going to buy some food\")\n",
    "else:\n",
    "    print(\"I'm just bored and dont need to eat\")"
   ]
  },
  {
   "cell_type": "code",
   "execution_count": 21,
   "metadata": {
    "tags": []
   },
   "outputs": [
    {
     "output_type": "stream",
     "name": "stdout",
     "text": "not going to work\n"
    }
   ],
   "source": [
    "# Create an if elif else statement\n",
    "no_motivation = True\n",
    "money_need = False\n",
    "if no_motivation:\n",
    "    print(\"not going to work\")\n",
    "elif money_need:\n",
    "    print(\"not going to work\")\n",
    "else:\n",
    "    print(\"going to work\")"
   ]
  },
  {
   "cell_type": "code",
   "execution_count": 23,
   "metadata": {
    "tags": []
   },
   "outputs": [
    {
     "output_type": "stream",
     "name": "stdout",
     "text": "0\n1\n2\n3\n4\n5\n6\n7\n8\n9\n"
    }
   ],
   "source": [
    "# Create a for loop using range(). Go from 0 to 9. Print out each number.\n",
    "ab = [0, 1, 2, 3, 4, 5, 6, 7, 8, 9]\n",
    "\n",
    "for item in ab:\n",
    "    print(item)"
   ]
  },
  {
   "cell_type": "code",
   "execution_count": 28,
   "metadata": {
    "tags": []
   },
   "outputs": [
    {
     "output_type": "stream",
     "name": "stdout",
     "text": "7\n"
    }
   ],
   "source": [
    "# Create a for loop iterating through this list and printing out the value.\n",
    "arr = ['Blue', 'Yellow', 'Red', 'Green', 'Purple', 'Magenta', 'Lilac']\n",
    "\n",
    "# Get the length of the list above and print it.\n",
    "\n",
    "print(len(arr))"
   ]
  },
  {
   "cell_type": "code",
   "execution_count": 36,
   "metadata": {
    "tags": []
   },
   "outputs": [
    {
     "output_type": "stream",
     "name": "stdout",
     "text": "this is loop 5\nthis is loop 6\nthis is loop 1\nthis is loop 25\nthis is loop 26\nthis is loop 74\n"
    }
   ],
   "source": [
    "# Create a while loop that ends after 6 times through. Print something for each pass.\n",
    "arr = [5, 6, 1, 25, 26, 74]\n",
    "\n",
    "for item in arr:\n",
    "    print(\"this is loop \" + str(item))"
   ]
  },
  {
   "cell_type": "code",
   "execution_count": 73,
   "metadata": {
    "tags": []
   },
   "outputs": [
    {
     "output_type": "stream",
     "name": "stdout",
     "text": "55 + 28 = 83\n"
    }
   ],
   "source": [
    "# Create a function to add 2 numbers together. Print out the number\n",
    "import random\n",
    "num1 = random.randint(0,100)\n",
    "num2 = random.randint(0,100)\n",
    "print(num1, \"+\", num2, \"=\", num1+num2)"
   ]
  },
  {
   "cell_type": "code",
   "execution_count": 46,
   "metadata": {
    "tags": []
   },
   "outputs": [
    {
     "output_type": "stream",
     "name": "stdout",
     "text": "69 is an odd number\n"
    }
   ],
   "source": [
    "# Create a function that tells you if a number is odd or even and print the result.\n",
    "num = int(input(\"Enter a number _\"))\n",
    "if (num % 2) == 0: \n",
    "     print(\"{0} is an even number\".format(num))\n",
    "else:\n",
    "     print(\"{0} is an odd number\".format(num))"
   ]
  },
  {
   "cell_type": "code",
   "execution_count": 87,
   "metadata": {
    "tags": []
   },
   "outputs": [
    {
     "output_type": "stream",
     "name": "stdout",
     "text": "Name: Brutus\nWeight: 5 Pounds\nHeight: 39 Inches\nBreed: Spaniel Mix\n"
    }
   ],
   "source": [
    "# Initialize an instance of the following class. Use a variable to store the object and then call the info function to print out the attributes.\n",
    "class Dog(object):\n",
    "    def __init__(self, name, height, weight, breed):\n",
    "        self.name = name\n",
    "        self.height = height\n",
    "        self.weight = weight\n",
    "        self.breed = breed\n",
    "\n",
    "    def info(self):\n",
    "        print(\"Name:\", self.name)\n",
    "        print(\"Weight:\", str(self.weight) + \" Pounds\")\n",
    "        print(\"Height:\", str(self.height) + \" Inches\")\n",
    "        print(\"Breed:\", self.breed)\n",
    "\n",
    "if __name__ == \"__main__\":\n",
    "    Brutus = Dog(\"Brutus\", 39, 5, \"Spaniel Mix\")\n",
    "    Brutus.info()"
   ]
  },
  {
   "cell_type": "code",
   "execution_count": null,
   "metadata": {},
   "outputs": [],
   "source": []
  }
 ]
}