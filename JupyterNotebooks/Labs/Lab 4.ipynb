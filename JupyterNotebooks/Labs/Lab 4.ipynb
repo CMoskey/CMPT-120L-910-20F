{
 "metadata": {
  "language_info": {
   "codemirror_mode": {
    "name": "ipython",
    "version": 3
   },
   "file_extension": ".py",
   "mimetype": "text/x-python",
   "name": "python",
   "nbconvert_exporter": "python",
   "pygments_lexer": "ipython3",
   "version": "3.8.5-final"
  },
  "orig_nbformat": 2,
  "kernelspec": {
   "name": "Python 3.8.5 64-bit",
   "display_name": "Python 3.8.5 64-bit",
   "metadata": {
    "interpreter": {
     "hash": "aee8b7b246df8f9039afb4144a1f6fd8d2ca17a180786b69acc140d282b71a49"
    }
   }
  }
 },
 "nbformat": 4,
 "nbformat_minor": 2,
 "cells": [
  {
   "cell_type": "code",
   "execution_count": null,
   "metadata": {},
   "outputs": [],
   "source": [
    "# Lab Four\n",
    "---\n",
    "\n",
    "For this lab we're going to be messing around with Markdown!\n",
    "\n",
    "Our Goals are:\n",
    "- Using Markdown!\n",
    "\n",
    "I want you to describe to me your process of converting the assignment and making it DRY. \n",
    "\n",
    "Please show the ability to:\n",
    "- Make a header\n",
    "- Make a list (ordered or unordered)\n",
    "- Link the Markdown Guide from the lesson. \n",
    "- Artuculate your thought process."
   ]
  },
  {
   "cell_type": "markdown",
   "metadata": {},
   "source": [
    "# How to DRY Your Code 101\n",
    "\n",
    "Below I will describe how to DRY off code in the following steps\n",
    "\n",
    "## Steps for Drying\n",
    "\n",
    "- Find instances of repeated code\n",
    "- Create a function that defines the repeated code\n",
    "- Use said function in place of repeated code\n",
    "- Locate all 'magic' numbers\n",
    "- Create a variable to take place of magic number\n",
    "- Write the variable in ALL_CAPS to identify it as constant\n",
    "    -Meaning it should not be changed\n",
    "-Debug Code as Needed\n",
    "\n",
    "\n",
    "\n",
    "For any further questions below is a link to the Markdown Guide\n",
    "### [Markdown](https://www.markdownguide.org)\n",
    "\n"
   ]
  }
 ]
}