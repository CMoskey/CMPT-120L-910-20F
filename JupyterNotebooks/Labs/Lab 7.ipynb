{
 "metadata": {
  "language_info": {
   "codemirror_mode": {
    "name": "ipython",
    "version": 3
   },
   "file_extension": ".py",
   "mimetype": "text/x-python",
   "name": "python",
   "nbconvert_exporter": "python",
   "pygments_lexer": "ipython3",
   "version": "3.8.5-final"
  },
  "orig_nbformat": 2,
  "kernelspec": {
   "name": "Python 3.8.5 64-bit",
   "display_name": "Python 3.8.5 64-bit",
   "metadata": {
    "interpreter": {
     "hash": "aee8b7b246df8f9039afb4144a1f6fd8d2ca17a180786b69acc140d282b71a49"
    }
   }
  }
 },
 "nbformat": 4,
 "nbformat_minor": 2,
 "cells": [
  {
   "cell_type": "code",
   "execution_count": 23,
   "metadata": {},
   "outputs": [
    {
     "output_type": "stream",
     "name": "stdout",
     "text": [
      "We're no strangers 💓 ➡️👤 💡 the rules ➕ so do I A 🌝 commitment's what I'm 🤔 of ➡️👤 wouldn't get this from any other guy I just 🙏 🗣️ ➡️👤 how I'm 💆‍♀️ Gotta 🛠️ ➡️👤 understand Never gonna 🎁➡️ ➡️👤 ⬆️ Never gonna let ➡️👤 ⬇️ Never gonna 🏃‍♂️ around ➕ 🏜️ ➡️👤 Never gonna 🛠️ ➡️👤 😢 Never gonna 💬 👋 Never gonna 🗣️ a 🤥 ➕ 🤕 ➡️👤 We've 💡 each other for so long Your 💘's been aching, but You're too shy 💬 it Inside, 👥⬅️ both 💡 what's been ➡️ on 👥⬅️ 💡 the 🎮 ➕ we're gonna ▶️ it ➕ if ➡️👤 🗣️❓ 👤⬅️ how I'm 💆‍♀️ ❌ 🗣️ 👤⬅️ you're too 🧑‍🦯 👀 Never gonna 🎁➡️ ➡️👤 ⬆️ Never gonna let ➡️👤 ⬇️ Never gonna 🏃‍♂️ around ➕ 🏜️ ➡️👤 Never gonna 🛠️ ➡️👤 😢 Never gonna 💬 👋 Never gonna 🗣️ a 🤥 ➕ 🤕 ➡️👤 Never gonna 🎁➡️ ➡️👤 ⬆️ Never gonna let ➡️👤 ⬇️ Never gonna 🏃‍♂️ around ➕ 🏜️ ➡️👤 Never gonna 🛠️ ➡️👤 😢 Never gonna 💬 👋 Never gonna 🗣️ a 🤥 ➕ 🤕 ➡️👤 (Ooh, 🎁➡️ ➡️👤 ⬆️) (Ooh, 🎁➡️ ➡️👤 ⬆️) Never gonna 🎁➡️, never gonna 🎁➡️ (🎁➡️ ➡️👤 ⬆️) Never gonna 🎁➡️, never gonna 🎁➡️ (🎁➡️ ➡️👤 ⬆️) We've 💡 each other for so long Your 💘's been aching, but You're too shy 💬 it Inside, 👥⬅️ both 💡 what's been ➡️ on 👥⬅️ 💡 the 🎮 ➕ we're gonna ▶️ it I just 🙏 🗣️ ➡️👤 how I'm 💆‍♀️ Gotta 🛠️ ➡️👤 understand Never gonna 🎁➡️ ➡️👤 ⬆️ Never gonna let ➡️👤 ⬇️ Never gonna 🏃‍♂️ around ➕ 🏜️ ➡️👤 Never gonna 🛠️ ➡️👤 😢 Never gonna 💬 👋 Never gonna 🗣️ a 🤥 ➕ 🤕 ➡️👤 Never gonna 🎁➡️ ➡️👤 ⬆️ Never gonna let ➡️👤 ⬇️ Never gonna 🏃‍♂️ around ➕ 🏜️ ➡️👤 Never gonna 🛠️ ➡️👤 😢 Never gonna 💬 👋 Never gonna 🗣️ a 🤥 ➕ 🤕 ➡️👤 Never gonna 🎁➡️ ➡️👤 ⬆️ Never gonna let ➡️👤 ⬇️ Never gonna 🏃‍♂️ around ➕ 🏜️ ➡️👤 Never gonna 🛠️ ➡️👤 😢 Never gonna 💬 👋 Never gonna 🗣️ a 🤥 ➕ 🤕 ➡️👤\n"
     ]
    }
   ],
   "source": [
    "import emoji\n",
    "\n",
    "print(emoji.emojize(\"We're no strangers :beating_heart: :right_arrow_selector::bust_in_silhouette: :light_bulb: the rules :heavy_plus_sign: so do I A :full_moon_face: commitment's what I'm :thinking_face: of :right_arrow_selector::bust_in_silhouette: wouldn't get this from any other guy I just :folded_hands: :speaking_head_selector: :right_arrow_selector::bust_in_silhouette: how I'm :woman_getting_massage_selector: Gotta :hammer_and_wrench_selector: :right_arrow_selector::bust_in_silhouette: understand Never gonna :wrapped_gift::right_arrow_selector: :right_arrow_selector::bust_in_silhouette: :up_arrow_selector: Never gonna let :right_arrow_selector::bust_in_silhouette: :down_arrow_selector: Never gonna :man_running_selector: around :heavy_plus_sign: :desert_selector: :right_arrow_selector::bust_in_silhouette: Never gonna :hammer_and_wrench_selector: :right_arrow_selector::bust_in_silhouette: :crying_face: Never gonna :speech_balloon: :waving_hand: Never gonna :speaking_head_selector: a :lying_face: :heavy_plus_sign: :face_with_head-bandage: :right_arrow_selector::bust_in_silhouette: We've :light_bulb: each other for so long Your :heart_with_arrow:'s been aching, but You're too shy :speech_balloon: it Inside, :busts_in_silhouette::left_arrow_selector: both :light_bulb: what's been :right_arrow_selector: on :busts_in_silhouette::left_arrow_selector: :light_bulb: the :video_game: :heavy_plus_sign: we're gonna :play_button_selector: it :heavy_plus_sign: if :right_arrow_selector::bust_in_silhouette: :speaking_head_selector::question_mark: :bust_in_silhouette::left_arrow_selector: how I'm :woman_getting_massage_selector: :cross_mark: :speaking_head_selector: :bust_in_silhouette::left_arrow_selector: you're too :adult:‍:probing_cane: :eyes: Never gonna :wrapped_gift::right_arrow_selector: :right_arrow_selector::bust_in_silhouette: :up_arrow_selector: Never gonna let :right_arrow_selector::bust_in_silhouette: :down_arrow_selector: Never gonna :man_running_selector: around :heavy_plus_sign: :desert_selector: :right_arrow_selector::bust_in_silhouette: Never gonna :hammer_and_wrench_selector: :right_arrow_selector::bust_in_silhouette: :crying_face: Never gonna :speech_balloon: :waving_hand: Never gonna :speaking_head_selector: a :lying_face: :heavy_plus_sign: :face_with_head-bandage: :right_arrow_selector::bust_in_silhouette: Never gonna :wrapped_gift::right_arrow_selector: :right_arrow_selector::bust_in_silhouette: :up_arrow_selector: Never gonna let :right_arrow_selector::bust_in_silhouette: :down_arrow_selector: Never gonna :man_running_selector: around :heavy_plus_sign: :desert_selector: :right_arrow_selector::bust_in_silhouette: Never gonna :hammer_and_wrench_selector: :right_arrow_selector::bust_in_silhouette: :crying_face: Never gonna :speech_balloon: :waving_hand: Never gonna :speaking_head_selector: a :lying_face: :heavy_plus_sign: :face_with_head-bandage: :right_arrow_selector::bust_in_silhouette: (Ooh, :wrapped_gift::right_arrow_selector: :right_arrow_selector::bust_in_silhouette: :up_arrow_selector:) (Ooh, :wrapped_gift::right_arrow_selector: :right_arrow_selector::bust_in_silhouette: :up_arrow_selector:) Never gonna :wrapped_gift::right_arrow_selector:, never gonna :wrapped_gift::right_arrow_selector: (:wrapped_gift::right_arrow_selector: :right_arrow_selector::bust_in_silhouette: :up_arrow_selector:) Never gonna :wrapped_gift::right_arrow_selector:, never gonna :wrapped_gift::right_arrow_selector: (:wrapped_gift::right_arrow_selector: :right_arrow_selector::bust_in_silhouette: :up_arrow_selector:) We've :light_bulb: each other for so long Your :heart_with_arrow:'s been aching, but You're too shy :speech_balloon: it Inside, :busts_in_silhouette::left_arrow_selector: both :light_bulb: what's been :right_arrow_selector: on :busts_in_silhouette::left_arrow_selector: :light_bulb: the :video_game: :heavy_plus_sign: we're gonna :play_button_selector: it I just :folded_hands: :speaking_head_selector: :right_arrow_selector::bust_in_silhouette: how I'm :woman_getting_massage_selector: Gotta :hammer_and_wrench_selector: :right_arrow_selector::bust_in_silhouette: understand Never gonna :wrapped_gift::right_arrow_selector: :right_arrow_selector::bust_in_silhouette: :up_arrow_selector: Never gonna let :right_arrow_selector::bust_in_silhouette: :down_arrow_selector: Never gonna :man_running_selector: around :heavy_plus_sign: :desert_selector: :right_arrow_selector::bust_in_silhouette: Never gonna :hammer_and_wrench_selector: :right_arrow_selector::bust_in_silhouette: :crying_face: Never gonna :speech_balloon: :waving_hand: Never gonna :speaking_head_selector: a :lying_face: :heavy_plus_sign: :face_with_head-bandage: :right_arrow_selector::bust_in_silhouette: Never gonna :wrapped_gift::right_arrow_selector: :right_arrow_selector::bust_in_silhouette: :up_arrow_selector: Never gonna let :right_arrow_selector::bust_in_silhouette: :down_arrow_selector: Never gonna :man_running_selector: around :heavy_plus_sign: :desert_selector: :right_arrow_selector::bust_in_silhouette: Never gonna :hammer_and_wrench_selector: :right_arrow_selector::bust_in_silhouette: :crying_face: Never gonna :speech_balloon: :waving_hand: Never gonna :speaking_head_selector: a :lying_face: :heavy_plus_sign: :face_with_head-bandage: :right_arrow_selector::bust_in_silhouette: Never gonna :wrapped_gift::right_arrow_selector: :right_arrow_selector::bust_in_silhouette: :up_arrow_selector: Never gonna let :right_arrow_selector::bust_in_silhouette: :down_arrow_selector: Never gonna :man_running_selector: around :heavy_plus_sign: :desert_selector: :right_arrow_selector::bust_in_silhouette: Never gonna :hammer_and_wrench_selector: :right_arrow_selector::bust_in_silhouette: :crying_face: Never gonna :speech_balloon: :waving_hand: Never gonna :speaking_head_selector: a :lying_face: :heavy_plus_sign: :face_with_head-bandage: :right_arrow_selector::bust_in_silhouette:\"))\n",
    "\n",
    "\n",
    "\n"
   ]
  },
  {
   "cell_type": "code",
   "execution_count": 33,
   "metadata": {},
   "outputs": [
    {
     "output_type": "stream",
     "name": "stdout",
     "text": [
      "covid has made me feel like :pile_of_poo:\ni'll probably feel like 💩 for a few weeks\ni could really use a 🛏 😴 right now\n"
     ]
    }
   ],
   "source": [
    "print(emoji.demojize(\"covid has made me feel like 💩\"))\n",
    "print(emoji.emojize(\"i'll probably feel like :pile_of_poo: for a few weeks\"))\n",
    "print(emoji.emojize(\"i could really use a :bed: :sleeping_face: right now\"))"
   ]
  },
  {
   "cell_type": "code",
   "execution_count": null,
   "metadata": {},
   "outputs": [],
   "source": []
  }
 ]
}